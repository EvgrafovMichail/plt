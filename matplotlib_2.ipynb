{
 "cells": [
  {
   "cell_type": "markdown",
   "metadata": {},
   "source": [
    "# Matplotlib#2. Artists"
   ]
  },
  {
   "cell_type": "code",
   "execution_count": 2,
   "metadata": {},
   "outputs": [],
   "source": [
    "import matplotlib.pyplot as plt\n",
    "import numpy as np"
   ]
  },
  {
   "cell_type": "markdown",
   "metadata": {},
   "source": [
    "## 2. Работа с рисунком. Элементы рисунка.\n",
    "\n",
    "**plot(x, y, color, linestyle, linewidth)** - строит график зависимости y = y(x). *linestyle* - тип линии('solid' | 'dotted' | 'dashed' | 'dashdot'), *linewidth* - толщина линии. \n",
    "\n",
    "### Область Axes - настраиваемая область, в которой осуществляется рисование, обладающая следующими параметрами:\n",
    "\n",
    "**plt.title(label, fontsize, fontweight, color, loc)** - заголовок области рисования. *lebel* - заголовок, *fontsize* - размер шрифта, *fontweight*('normal' | 'bold' | 'heavy' | 'light' | 'ultrabold' | 'ultralight') - вид шрифта(жирный шрифт, курсивный и т.д.), *color* - цвет надписи, loc('right' | 'center' | 'left') - положение заголовка.\n",
    "\n",
    "**xlabel(label, fontsize, fontweight, color)** - подпись оси абсцисс OX. *lebel* - заголовок, *fontsize* - размер шрифта, *fontweight*('normal' | 'bold' | 'heavy' | 'light' | 'ultrabold' | 'ultralight') - вид шрифта(жирный шрифт, курсивный и т.д.), *color* - цвет надписи.\n",
    "\n",
    "**ylabel(label, fontsize, fontweight, color)** - подпись оси ординат OY. Аргументы аналогично **xlabel()**.\n",
    "\n",
    "**legend([objects], loc)** - подпись всех обозначений на изображении. *loc* - расположение легенды('upper left' | 'upper right' | 'lower right' | 'lower left').\n",
    "\n",
    "**xticks(ax_value, labels(optional))** - деления на оси абсцисс. *ax_value* - значения для привязки к рисунку, *labels* - метки, необязательный параметр, если он не указан, то по умолчанию деления будут подписаны числами. \n",
    "\n",
    "**yticks(ax_value, labels(optional))** - деления на оси ординат.\n",
    "\n",
    "**grid()** - добавление координатной сетки.\n",
    "\n",
    "### Свойства объектов Artist:\n",
    "\n",
    "**color/colors** - цвет. Задаётся или буквой, или словом. Возможные варианты : { 'b' - 'blue', 'g' - 'green', 'r' - 'red', 'w' - white', 'k' - 'black', 'c' - 'cyan', 'm' - 'magneta', 'y' - 'yellow'}.\n",
    "\n",
    "**linewidth** - толщина линии. \n",
    "\n",
    "**linestyle** - тип линии('solid' | 'dotted' | 'dashed' | 'dashdot').\n",
    "\n",
    "**alpha** - степень прозрачности от 0 - абсолютно прозрачен, - до 1 - непрозрачный. \n",
    "\n",
    "**fontsize** - размер шрифта.\n",
    "\n",
    "**marker** - тип маркера. Очень большое количество маркеров, нет смысла приводить их все.\n",
    "\n",
    "**rotation** - поворот на нужное количество градусов. "
   ]
  },
  {
   "cell_type": "markdown",
   "metadata": {},
   "source": [
    "#### Пример№1:"
   ]
  },
  {
   "cell_type": "code",
   "execution_count": 118,
   "metadata": {},
   "outputs": [
    {
     "data": {
      "image/png": "[encoded data removed]",
      "text/plain": [
       "<Figure size 432x288 with 1 Axes>"
      ]
     },
     "metadata": {
      "needs_background": "light"
     },
     "output_type": "display_data"
    }
   ],
   "source": [
    "x = np.linspace(-10, 10, 10000) # {x: -10 = x1 < x2 < ... < x10000 = 10}\n",
    "\n",
    "fig = plt.figure()\n",
    "\n",
    "plt.plot(x, np.exp(x), color='black', linestyle='dashed', linewidth=2)\n",
    "\n",
    "plt.title('y = exp(x)', fontsize=20, fontweight='bold')\n",
    "plt.xlabel('x values', fontsize=11)\n",
    "plt.ylabel('y values', fontsize=11)\n",
    "\n",
    "plt.xticks(np.linspace(-10, 10, 21))\n",
    "\n",
    "plt.legend(['y = exp(x)'], loc='upper left')\n",
    "plt.grid()"
   ]
  },
  {
   "cell_type": "code",
   "execution_count": null,
   "metadata": {},
   "outputs": [],
   "source": []
  }
 ],
 "metadata": {
  "kernelspec": {
   "display_name": "Python 3",
   "language": "python",
   "name": "python3"
  },
  "language_info": {
   "codemirror_mode": {
    "name": "ipython",
    "version": 3
   },
   "file_extension": ".py",
   "mimetype": "text/x-python",
   "name": "python",
   "nbconvert_exporter": "python",
   "pygments_lexer": "ipython3",
   "version": "3.8.3"
  }
 },
 "nbformat": 4,
 "nbformat_minor": 4
}

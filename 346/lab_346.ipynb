{
 "cells": [
  {
   "cell_type": "markdown",
   "metadata": {},
   "source": [
    "# Лабораторная работа №346. Треки."
   ]
  },
  {
   "cell_type": "markdown",
   "metadata": {},
   "source": [
    "## $ K_{\\mu 2}$-распад \n",
    "\n",
    "![mu2](mu2.jpg)"
   ]
  },
  {
   "cell_type": "markdown",
   "metadata": {},
   "source": [
    "Трек с достаточно длиннопробежной слаборассеивающейся частицей. На конце можно видеть след от электрона, возникающего от распада $ \\mu^+\\rightarrow e^+\\nu_e\\overline{\\nu_{\\mu}}$."
   ]
  },
  {
   "cell_type": "markdown",
   "metadata": {},
   "source": [
    "## $ K_{\\pi 2}$-распад \n",
    "\n",
    "![pi2](pi2.jpg)"
   ]
  },
  {
   "cell_type": "markdown",
   "metadata": {},
   "source": [
    "Видим излом первичного трека, где в точку излома смотрят $2\\gamma$-кванта от распада $\\pi^0 \\rightarrow 2\\gamma$. $2\\gamma$ находятся вблизи излома. "
   ]
  },
  {
   "cell_type": "markdown",
   "metadata": {},
   "source": [
    "## $ K_{\\pi 3}$-распад \n",
    "\n",
    "![pi3](pi3.jpg)"
   ]
  },
  {
   "cell_type": "markdown",
   "metadata": {},
   "source": [
    "Распад $K^+$-мезона на лету. Верхний трек соответствует $\\pi^-$-мезону, поскольку он заканчивается *звездой*. Трек в целом соответствует конфигурации \"паучок\". Оставшиеся два нижних трека являются характерными треками для $\\pi^+$-мезонов."
   ]
  },
  {
   "cell_type": "markdown",
   "metadata": {},
   "source": [
    "## $ K_{\\pi 3}'$-распад \n",
    "\n",
    "![pi3_s](pi3_s.jpg)"
   ]
  },
  {
   "cell_type": "markdown",
   "metadata": {},
   "source": [
    "Кандидат на $K_{\\pi3}'$-распад. Видно четыре \"носика\" $\\gamma$-квантов, смотрящих в точку излома трека. При этом наблюдаются короткие треки. "
   ]
  },
  {
   "cell_type": "markdown",
   "metadata": {},
   "source": [
    "## $ K_{\\mu 3}$-распад \n",
    "\n",
    "![mu3](mu3.jpg)"
   ]
  },
  {
   "cell_type": "markdown",
   "metadata": {},
   "source": [
    "Наблюдаем излом с двумя $\\gamma$-квантами, смотрящими в точку распада. Причём длина треков менее 25 сантиметров, следовательно, это именно $K_{\\mu3}$-распад, а не $K_{\\pi3}$-распад."
   ]
  }
 ],
 "metadata": {
  "kernelspec": {
   "display_name": "Python 3",
   "language": "python",
   "name": "python3"
  },
  "language_info": {
   "codemirror_mode": {
    "name": "ipython",
    "version": 3
   },
   "file_extension": ".py",
   "mimetype": "text/x-python",
   "name": "python",
   "nbconvert_exporter": "python",
   "pygments_lexer": "ipython3",
   "version": "3.8.3"
  }
 },
 "nbformat": 4,
 "nbformat_minor": 4
}
